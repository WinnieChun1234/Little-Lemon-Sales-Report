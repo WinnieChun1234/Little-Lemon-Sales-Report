{
 "cells": [
  {
   "cell_type": "markdown",
   "id": "eaaf7bad-cd5e-4803-b008-94ab4e7ecbf6",
   "metadata": {},
   "source": [
    "# Implement and query stored procedures\n",
    "\n",
    "In this exercise you must create a pool of connections and get a connection from the pool to implement the stored procedures to complete the following tasks:\n",
    "\n",
    "- Establish a connection by importing MySQLConnectionPool and creating a pool with two connections.\n",
    "\n",
    "- Create and call a stored procedure named PeakHours that identifies the peak, or busiest hour, for the restaurant based on the number of bookings.\n",
    "\n",
    "- Create and call a stored procedure named GuestStatus that outputs status of each guest’s order based on which employee is assigned to the order.\n",
    "\n",
    "Stored procedures are created to carry out routine operations on MySQL databases. They are consistent and make sure that the written SQL queries in the procedures are executed in the same way every time you call the stored procedure.\n",
    "\n",
    "A stored procedure is created only once, and you store it in the MySQL database. You can call the stored procedures as many times as you need in your Python-based application.\n",
    "\n",
    "The tasks and the steps that you must follow to complete each one are as follows:"
   ]
  },
  {
   "cell_type": "markdown",
   "id": "231914fd-8b97-480f-8485-09f6abef9a36",
   "metadata": {},
   "source": [
    "### Task 1: Establish a connection \n",
    "Step one: Import MySQLConnectionPool\n",
    "\n",
    "Step two: Import Error\n",
    "\n",
    "Step three: Create a pool named pool_a with two connections. Use a try-except block to handle any possible errors. \n",
    "\n",
    "Your database configurations are as follows: ```dbconfig={\"database\":\"little_lemon_db\", \"user\":\"your_username\", \"password\":\"your_password\"}```\n",
    "\n",
    "Step four: Obtain a connection from pool_a and create a cursor object to communicate with the database."
   ]
  },
  {
   "cell_type": "code",
   "execution_count": 22,
   "id": "991323c3-7a2d-4fdd-ac2d-e81735e58324",
   "metadata": {},
   "outputs": [],
   "source": [
    "dbconfig={\"database\":\"little_lemon_db\", \"user\":\"root\", \"password\":\"\"}"
   ]
  },
  {
   "cell_type": "code",
   "execution_count": 23,
   "id": "1eebe5cf-ac72-4811-9325-321ea49c9f31",
   "metadata": {},
   "outputs": [
    {
     "name": "stdout",
     "output_type": "stream",
     "text": [
      "Connection pool is created with pool size 2\n",
      "Cursor is created to the pool\n"
     ]
    }
   ],
   "source": [
    "from mysql.connector.pooling import MySQLConnectionPool\n",
    "from mysql.connector import Error\n",
    "\n",
    "\n",
    "try: \n",
    "    pool_a = MySQLConnectionPool(pool_name=\"pool_a\", pool_size=2, **dbconfig)\n",
    "    conn = pool_a.get_connection()\n",
    "    cursor = conn.cursor()\n",
    "    print(\"Connection pool is created with pool size\", pool_a.pool_size)\n",
    "except Error as e:\n",
    "    print(\"Unable to create connection pool:\", e)\n",
    "\n",
    "conn = pool_a.get_connection()\n",
    "\n",
    "cursor = conn.cursor()\n",
    "print(\"Cursor is created to the pool\")"
   ]
  },
  {
   "cell_type": "markdown",
   "id": "a70c7576-7776-41e7-b2b2-0cd424b21c2a",
   "metadata": {},
   "source": [
    "### Task 2: Implement a stored procedure called PeakHours\n",
    "Step one: Write a SQL CREATE PROCEDURE query for PeakHours\n",
    "\n",
    "- Use HOUR to extract the hour part from the BookingSlot.\n",
    "\n",
    "- Use COUNT on hour to count the number of bookings.\n",
    "\n",
    "- Use GROUP BY on booking hour.\n",
    "\n",
    "- Use ORDER BY on the number of bookings in descending order.\n",
    "\n",
    "Step two: Run the stored procedure query by invoking execute module on the cursor.\n",
    "\n",
    "Step three: Invoke callproc to call the stored procedure.\n",
    "\n",
    "Step four: Fetch the results in a variable called dataset.\n",
    "\n",
    "Step five: Extract the names of the columns.\n",
    "\n",
    "Step six: Print the names of the columns.\n",
    "\n",
    "Step seven: Print the sorted data using for loop.\n",
    "\n"
   ]
  },
  {
   "cell_type": "code",
   "execution_count": 24,
   "id": "1f03d460-3b8e-43f9-a534-c7a21b9a757e",
   "metadata": {},
   "outputs": [
    {
     "name": "stdout",
     "output_type": "stream",
     "text": [
      "Column Names: ['BookingHour', 'BookingCount']\n",
      "(19, 2)\n",
      "(15, 1)\n",
      "(17, 1)\n",
      "(18, 1)\n",
      "(20, 1)\n"
     ]
    }
   ],
   "source": [
    "create_procedure_query = \"\"\"\n",
    "    CREATE PROCEDURE PeakHours()\n",
    "    BEGIN\n",
    "        SELECT HOUR(BookingSlot) AS BookingHour, COUNT(*) AS BookingCount\n",
    "        FROM bookings\n",
    "        GROUP BY BookingHour\n",
    "        ORDER BY BookingCount DESC;\n",
    "    END;\n",
    "\"\"\"\n",
    "\n",
    "cursor.execute(create_procedure_query)\n",
    "\n",
    "cursor.callproc(\"PeakHours\")\n",
    "\n",
    "results = next(cursor.stored_results())\n",
    "\n",
    "dataset = results.fetchall()\n",
    "\n",
    "for column_id in cursor.stored_results():\n",
    "    column_names = [column[0] for column in column_id.description]\n",
    "    print(\"Column Names:\", column_names)\n",
    "\n",
    "for row in dataset:\n",
    "    print(row)\n"
   ]
  },
  {
   "cell_type": "markdown",
   "id": "9d30693d-654b-42ad-a54d-152a7367f884",
   "metadata": {},
   "source": [
    "### Task 3: Implement a stored procedure GuestStatus\n",
    "Step one: Write a SQL CREATE PROCEDURE query for GuestStatus.\n",
    "\n",
    "Step two: Combine the guest’s first and last name from the booking column using CONCAT. \n",
    "\n",
    "Step three: Use CASE to implement the following statuses for each guest’s order:\n",
    "\n",
    "- If the Role in the Employee table is Manager or Assistant Manager then the guest’s order status is Ready to pay\n",
    "\n",
    "- If the Role in the Employee table is Head Chef then the status is Ready to serve\n",
    "\n",
    "- If the Role in the Employee table is Assistant Chef then the status is Preparing Order\n",
    "\n",
    "- If the Role in the Employee table is Head Waiter then the status is Order served\n",
    "\n",
    "Step four: LEFT JOIN Bookings table with Employees ON EmployeeID\n",
    "\n",
    "Step five: Run the stored procedure query by invoking execute module on the cursor.\n",
    "\n",
    "Step six: Invoke callproc to call the stored procedure.\n",
    "\n",
    "Step seven: Fetch the results in a variable called dataset.\n",
    "\n",
    "Step eight: Extract the names of the columns.\n",
    "\n",
    "Step nine: Print the names of the columns.\n",
    "\n",
    "Step ten: Print the sorted data using for loop.\n",
    "\n",
    "Step eleven: Close the connection to return it back to the pool."
   ]
  },
  {
   "cell_type": "code",
   "execution_count": 25,
   "id": "735554b5-2e93-4b49-919b-17dc8e1535cd",
   "metadata": {
    "collapsed": true,
    "jupyter": {
     "outputs_hidden": true
    }
   },
   "outputs": [
    {
     "name": "stdout",
     "output_type": "stream",
     "text": [
      "Column Names: ['GuestName', 'OrderStatus']\n",
      "('Anna Iversen', 'Ready to pay')\n",
      "('Joakim Iversen', 'Ready to pay')\n",
      "('Vanessa McCarthy', 'Ready to serve')\n",
      "('Marcos Romero', 'Preparing Order')\n",
      "('Hiroki Yamane', 'Ready to pay')\n",
      "('Diana Pinto', 'Order served')\n"
     ]
    }
   ],
   "source": [
    "create_procedure_query = \"\"\"\n",
    "    CREATE PROCEDURE GuestStatus()\n",
    "    BEGIN\n",
    "        SELECT CONCAT(GuestFirstName, ' ', GuestLastName) AS GuestName,\n",
    "               CASE\n",
    "                   WHEN e.Role IN ('Manager', 'Assistant Manager') THEN 'Ready to pay'\n",
    "                   WHEN e.Role = 'Head Chef' THEN 'Ready to serve'\n",
    "                   WHEN e.Role = 'Assistant Chef' THEN 'Preparing Order'\n",
    "                   WHEN e.Role = 'Head Waiter' THEN 'Order served'\n",
    "                   ELSE 'Unknown'\n",
    "               END AS OrderStatus\n",
    "        FROM Bookings b\n",
    "        LEFT JOIN Employees e ON b.EmployeeID = e.EmployeeID;\n",
    "    END;\n",
    "\"\"\"\n",
    "\n",
    "cursor.execute(create_procedure_query)\n",
    "\n",
    "cursor.callproc(\"GuestStatus\")\n",
    "\n",
    "results = next(cursor.stored_results())\n",
    "\n",
    "dataset = results.fetchall()\n",
    "\n",
    "for column_id in cursor.stored_results():\n",
    "    column_names = [column[0] for column in column_id.description]\n",
    "    print(\"Column Names:\", column_names)\n",
    "\n",
    "for row in dataset:\n",
    "    print(row)"
   ]
  },
  {
   "cell_type": "markdown",
   "id": "bec5ad2b-d570-40e5-9c2c-1fb889c9e8c4",
   "metadata": {},
   "source": [
    "### Conclusion\n",
    "You have now created a pool of connections and obtained a connection from the pool that implemented the stored procedures. You need to submit this exercise for your peer review project.\n",
    "\n"
   ]
  },
  {
   "cell_type": "code",
   "execution_count": 26,
   "id": "e4f25d7c-818a-46cf-ab9d-40341fcc91ea",
   "metadata": {},
   "outputs": [],
   "source": [
    "conn.close()"
   ]
  },
  {
   "cell_type": "code",
   "execution_count": null,
   "id": "4bc306f3-b133-4c22-93c0-61d0b077ee53",
   "metadata": {},
   "outputs": [],
   "source": []
  }
 ],
 "metadata": {
  "kernelspec": {
   "display_name": "Python 3 (ipykernel)",
   "language": "python",
   "name": "python3"
  },
  "language_info": {
   "codemirror_mode": {
    "name": "ipython",
    "version": 3
   },
   "file_extension": ".py",
   "mimetype": "text/x-python",
   "name": "python",
   "nbconvert_exporter": "python",
   "pygments_lexer": "ipython3",
   "version": "3.11.5"
  }
 },
 "nbformat": 4,
 "nbformat_minor": 5
}
