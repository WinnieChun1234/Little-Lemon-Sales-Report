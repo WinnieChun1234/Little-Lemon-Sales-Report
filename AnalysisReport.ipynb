{
 "cells": [
  {
   "cell_type": "markdown",
   "id": "6d259c82-10a0-4194-95e7-d3da1c8f8528",
   "metadata": {},
   "source": [
    "# Little Lemon analysis and sales report\n",
    "You have gained all the necessary skills and knowledge required to interact with the back-end MySQL database from your Python-based front-end application via the standard database client MySQL Connector/Python. \n",
    "\n",
    "Follow the instructions in the exercises given below and create a Jupyter notebook to produce a Little Lemon analysis and sales report. You need to submit this report for your peers to review."
   ]
  },
  {
   "cell_type": "markdown",
   "id": "0c6c81c7-cf02-4047-91a6-fa598f152816",
   "metadata": {},
   "source": [
    "### Task 1:\n",
    "Complete the following steps to establish a connection pool:\n",
    "\n",
    "- To create a connection pool, import MySQLConnectionPool class from MySQL Connector/Python.\n",
    "\n",
    "- To find the information on the error, import the Error class from MySQL Connector/Python.\n",
    "\n",
    "- Define your database configurations as a Python dictionary object called dbconfig.\n",
    "\n",
    "- Establish a connection pool [pool_name = pool_b] with two connections. \n",
    "\n",
    "- Implement error handling using a try-except block in case the connection fails. \n",
    "\n",
    " \n",
    "\n"
   ]
  },
  {
   "cell_type": "code",
   "execution_count": 8,
   "id": "9db728bb-e36b-4e8a-8fcb-2a0a6a99d75d",
   "metadata": {},
   "outputs": [],
   "source": [
    "dbconfig={\"database\":\"little_lemon_db\", \"user\":\"root\", \"password\":\"\"}"
   ]
  },
  {
   "cell_type": "code",
   "execution_count": 9,
   "id": "5f3887e6-e0a3-4a17-ba06-e7234808f634",
   "metadata": {},
   "outputs": [
    {
     "name": "stdout",
     "output_type": "stream",
     "text": [
      "Connection pool is created with pool size 3\n"
     ]
    }
   ],
   "source": [
    "from mysql.connector.pooling import MySQLConnectionPool\n",
    "from mysql.connector import Error\n",
    "\n",
    "\n",
    "try: \n",
    "    pool_a = MySQLConnectionPool(pool_name=\"pool_a\", pool_size=3, **dbconfig)\n",
    "    conn = pool_a.get_connection()\n",
    "    cursor = conn.cursor()\n",
    "    print(\"Connection pool is created with pool size\", pool_a.pool_size)\n",
    "except Error as e:\n",
    "    print(\"Unable to create connection pool:\", e)\n",
    "\n"
   ]
  },
  {
   "cell_type": "markdown",
   "id": "57ba351f-9fb7-4ff3-9bf3-de4d56249e93",
   "metadata": {},
   "source": [
    "### Task 2:\n",
    "Three guests are trying to book dinner slots simultaneously. Get the connections from pool_b and insert the following data in the Bookings table:\n",
    "\n",
    "\n",
    "TIP: You need to add a connection to connect the third guest.\n",
    "\n",
    "Guest 1:\n",
    "\n",
    "- Table Number: 8\n",
    "\n",
    "- First Name: Anees\n",
    "\n",
    "- Last Name: Java\n",
    "\n",
    "- Booking Time: 18:00\n",
    "\n",
    "- EmployeeID: 6\n",
    "\n",
    "\n",
    "Guest 2:\n",
    "\n",
    "- Table Number: 5\n",
    "\n",
    "- First Name: Bald\n",
    "\n",
    "- Last Name: Vin\n",
    "\n",
    "- Booking Time: 19:00\n",
    "\n",
    "- EmployeeID: 6\n",
    "\n",
    "\n",
    "Guest 3:\n",
    "\n",
    "- Table Number: 12\n",
    "\n",
    "- First Name: Jay\n",
    "\n",
    "- Last Name: Kon\n",
    "\n",
    "- Booking Time: 19:30 \n",
    "\n",
    "- EmployeeID: 6\n",
    "\n",
    "\n",
    "Return all the connections back to the pool. \n",
    "\n",
    "\n",
    "TIP: The pool size is two. However, you have three connected users. You can only return two connections. Returning a third connection will raise a PoolError. Use try-except to print the error message.  "
   ]
  },
  {
   "cell_type": "code",
   "execution_count": 10,
   "id": "f0e6f44d-ded8-48b8-8769-0a25d59d6e89",
   "metadata": {},
   "outputs": [],
   "source": [
    "conn1 = pool_a.get_connection()\n",
    "cur1 = conn1.cursor()\n",
    "insert_query_1 = \"\"\"\n",
    "    INSERT INTO Bookings (TableNo, GuestFirstName, GuestLastName, BookingSlot, EmployeeID)\n",
    "    VALUES (%s, %s, %s, %s, %s)\n",
    "\"\"\"\n",
    "insert_data_1 = (8, \"Anees\", \"Java\", \"18:00:00\", 6)\n",
    "cur1.execute(insert_query_1, insert_data_1)\n",
    "conn1.commit()\n",
    "conn1.close()\n",
    "\n",
    "conn2 = pool_a.get_connection()\n",
    "cur2 = conn2.cursor()\n",
    "insert_query_2 = \"\"\"\n",
    "    INSERT INTO Bookings (TableNo, GuestFirstName, GuestLastName, BookingSlot, EmployeeID)\n",
    "    VALUES (%s, %s, %s, %s, %s)\n",
    "\"\"\"\n",
    "insert_data_2 = (5, \"Bald\", \"Vin\", \"19:00:00\", 6)\n",
    "cur2.execute(insert_query_2, insert_data_2)\n",
    "conn2.commit()\n",
    "conn2.close()\n",
    "\n",
    "conn3 = pool_a.get_connection()\n",
    "cur3 = conn3.cursor()\n",
    "insert_query_3 = \"\"\"\n",
    "    INSERT INTO Bookings (TableNo, GuestFirstName, GuestLastName, BookingSlot, EmployeeID)\n",
    "    VALUES (%s, %s, %s, %s, %s)\n",
    "\"\"\"\n",
    "insert_data_3 = (12, \"Jay\", \"Kon\", \"19:30:00\", 6)\n",
    "cur3.execute(insert_query_3, insert_data_3)\n",
    "conn3.commit()\n"
   ]
  },
  {
   "cell_type": "markdown",
   "id": "b31539a3-780b-4fc3-b2f7-499f0543ce46",
   "metadata": {},
   "source": [
    "### Task 3:\n",
    "Create a report containing the following information:\n",
    "\n",
    "- The name and EmployeeID of the Little Lemon manager.\n",
    "\n",
    "- The name and role of the employee who receives the highest salary.\n",
    "\n",
    "- The number of guests booked between 18:00 and 20:00.\n",
    "\n",
    "- The full name and BookingID of all guests waiting to be seated with the receptionist in sorted order with respect to their BookingSlot.\n",
    "  \n",
    "\n"
   ]
  },
  {
   "cell_type": "code",
   "execution_count": 14,
   "id": "ff25b4e8",
   "metadata": {},
   "outputs": [
    {
     "name": "stdout",
     "output_type": "stream",
     "text": [
      "connected to mysql\n",
      "successfully established cursor\n"
     ]
    }
   ],
   "source": [
    "import mysql.connector as connector\n",
    "\n",
    "try:\n",
    "    conn = connector.connect(user=\"root\",password=\"\")\n",
    "    print(\"connected to mysql\")\n",
    "except Error as e:\n",
    "    print(\"Unable to connecting MySQL:\", e)\n",
    "\n",
    "cursor = conn.cursor()\n",
    "print(\"successfully established cursor\")"
   ]
  },
  {
   "cell_type": "code",
   "execution_count": 16,
   "id": "9ebaf68c",
   "metadata": {},
   "outputs": [
    {
     "name": "stdout",
     "output_type": "stream",
     "text": [
      "Database little_lemon_db selected\n"
     ]
    }
   ],
   "source": [
    "cursor.execute(\"USE little_lemon_db\")\n",
    "print(\"Database little_lemon_db selected\")"
   ]
  },
  {
   "cell_type": "code",
   "execution_count": 17,
   "id": "56de50e7-6d7d-432f-91c2-74faa0b5b950",
   "metadata": {},
   "outputs": [
    {
     "name": "stdout",
     "output_type": "stream",
     "text": [
      "[('Mario Gollini', 1)]\n"
     ]
    }
   ],
   "source": [
    "manager_query = \"\"\"\n",
    "    SELECT Name AS ManagerName, EmployeeID\n",
    "    FROM Employees\n",
    "    WHERE Role = 'Manager';\n",
    "\"\"\"\n",
    "cursor.execute(manager_query)\n",
    "manager_data = cursor.fetchall()\n",
    "print(manager_data)\n",
    "\n"
   ]
  },
  {
   "cell_type": "code",
   "execution_count": 18,
   "id": "00795e61",
   "metadata": {},
   "outputs": [
    {
     "name": "stdout",
     "output_type": "stream",
     "text": [
      "('Mario Gollini', 'Manager', '$70,000')\n"
     ]
    }
   ],
   "source": [
    "highest_salary_query = \"\"\"\n",
    "    SELECT Name, Role, Annual_Salary\n",
    "    FROM employees\n",
    "    ORDER BY Annual_Salary DESC\n",
    "    LIMIT 1;\n",
    "\"\"\"\n",
    "cursor.execute(highest_salary_query)\n",
    "highest_salary_data = cursor.fetchone()\n",
    "print(highest_salary_data)\n",
    "\n"
   ]
  },
  {
   "cell_type": "code",
   "execution_count": 19,
   "id": "f37bb061",
   "metadata": {},
   "outputs": [
    {
     "name": "stdout",
     "output_type": "stream",
     "text": [
      "(7,)\n"
     ]
    }
   ],
   "source": [
    "bookings_count_query = \"\"\"\n",
    "    SELECT COUNT(*)\n",
    "    FROM Bookings\n",
    "    WHERE BookingSlot BETWEEN '18:00:00' AND '20:00:00';\n",
    "\"\"\"\n",
    "cursor.execute(bookings_count_query)\n",
    "bookings_count_data = cursor.fetchone()\n",
    "# bookings_count = bookings_count_data[0]\n",
    "print(bookings_count_data)"
   ]
  },
  {
   "cell_type": "code",
   "execution_count": 20,
   "id": "bb730caf",
   "metadata": {},
   "outputs": [
    {
     "name": "stdout",
     "output_type": "stream",
     "text": [
      "[('Vanessa McCarthy', 3), ('Marcos Romero', 4), ('Anees Java', 7), ('Hiroki Yamane', 5), ('Anna Iversen', 1), ('Joakim Iversen', 2), ('Bald Vin', 8), ('Jay Kon', 9), ('Diana Pinto', 6)]\n"
     ]
    }
   ],
   "source": [
    "waiting_guests_query = \"\"\"\n",
    "    SELECT CONCAT(GuestFirstName, ' ', GuestLastName) AS GuestName, BookingID\n",
    "    FROM Bookings  \n",
    "    ORDER BY BookingSlot ASC;\n",
    "\"\"\"\n",
    "cursor.execute(waiting_guests_query)\n",
    "waiting_guests_data = cursor.fetchall()\n",
    "\n",
    "print(waiting_guests_data)\n",
    "\n",
    "\n"
   ]
  },
  {
   "cell_type": "code",
   "execution_count": 21,
   "id": "12420548",
   "metadata": {},
   "outputs": [
    {
     "name": "stdout",
     "output_type": "stream",
     "text": [
      "The name and EmployeeID of the Little Lemon manager is Mario Gollini and 1\n",
      "The name and role of the employee who receives the highest salary is Mario Gollini and Manager\n",
      "The number of guests booked between 18:00 and 20:00 is 7\n",
      "The full name and BookingID of all guests waiting to be seated with the receptionist in sorted order with respect to their BookingSlot are as follows\n",
      "Vanessa McCarthy| Booking ID: 3\n",
      "Marcos Romero| Booking ID: 4\n",
      "Anees Java| Booking ID: 7\n",
      "Hiroki Yamane| Booking ID: 5\n",
      "Anna Iversen| Booking ID: 1\n",
      "Joakim Iversen| Booking ID: 2\n",
      "Bald Vin| Booking ID: 8\n",
      "Jay Kon| Booking ID: 9\n",
      "Diana Pinto| Booking ID: 6\n"
     ]
    }
   ],
   "source": [
    "print(\"The name and EmployeeID of the Little Lemon manager is\", manager_data[0][0], \"and\", manager_data[0][1])\n",
    "\n",
    "\n",
    "print(\"The name and role of the employee who receives the highest salary is\", highest_salary_data[0], \"and\", highest_salary_data[1]) \n",
    "\n",
    "print(\"The number of guests booked between 18:00 and 20:00 is\", bookings_count_data[0])\n",
    "\n",
    "print(\"The full name and BookingID of all guests waiting to be seated with the receptionist in sorted order with respect to their BookingSlot are as follows\")\n",
    "\n",
    "for row in waiting_guests_data:\n",
    "    print( row[0] + \"| Booking ID:\", row[1])\n"
   ]
  },
  {
   "cell_type": "markdown",
   "id": "0f3cd053-0fe9-4bbf-8223-20af1a388e68",
   "metadata": {},
   "source": [
    "### Task 4:\n",
    "Create a stored procedure named BasicSalesReport that returns the following statistics: \n",
    "\n",
    "- Total sales\n",
    "\n",
    "- Average sale\n",
    "\n",
    "- Minimum bill paid\n",
    "\n",
    "- Maximum bill paid\n",
    "\n"
   ]
  },
  {
   "cell_type": "code",
   "execution_count": 25,
   "id": "8379eb58-108b-4f89-b510-4b18ea98e4a0",
   "metadata": {},
   "outputs": [
    {
     "name": "stdout",
     "output_type": "stream",
     "text": [
      "[(Decimal('243'), Decimal('48.6000'), 37, 86)]\n"
     ]
    }
   ],
   "source": [
    "cursor.execute(\"DROP PROCEDURE IF EXISTS BasicSalesReport;\")\n",
    "\n",
    "create_procedure_query = \"\"\"\n",
    "    CREATE PROCEDURE BasicSalesReport()\n",
    "    BEGIN\n",
    "        SELECT SUM(BillAmount) AS TotalSales,\n",
    "               AVG(BillAmount) AS AverageSale,\n",
    "               MIN(BillAmount) AS MinimumBill,\n",
    "               MAX(BillAmount) AS MaximumBill\n",
    "        FROM Orders;\n",
    "    END;\n",
    "\"\"\"\n",
    "\n",
    "cursor.execute(create_procedure_query)\n",
    "\n",
    "cursor.callproc(\"BasicSalesReport\")\n",
    "\n",
    "results = next(cursor.stored_results())\n",
    "\n",
    "sales_data = results.fetchall()\n",
    "\n",
    "print(sales_data)\n",
    "\n"
   ]
  },
  {
   "cell_type": "code",
   "execution_count": 31,
   "id": "10cdfeb5",
   "metadata": {},
   "outputs": [
    {
     "name": "stdout",
     "output_type": "stream",
     "text": [
      "-------------------------\n",
      "Basic Sales Report\n",
      "-------------------------\n",
      "Total Sales: 243\n",
      "Average Sale: 48.6000\n",
      "Minimum Bill: 37\n",
      "Maximum Bill: 86\n"
     ]
    }
   ],
   "source": [
    "print(\"-\" * 25)\n",
    "print(\"Basic Sales Report\")\n",
    "print(\"-\" * 25)\n",
    "print(f\"Total Sales:\",  sales_data[0][0])\n",
    "print(f\"Average Sale:\", sales_data[0][1])\n",
    "print(f\"Minimum Bill:\", sales_data[0][2])\n",
    "print(f\"Maximum Bill:\", sales_data[0][3])\n"
   ]
  },
  {
   "cell_type": "markdown",
   "id": "448a151d-0c4e-431b-bbb4-2cb80c6b69cd",
   "metadata": {},
   "source": [
    "### Task 5:\n",
    "Little Lemon needs to display the next three upcoming bookings from the Bookings table on the kitchen screen to notify their chefs which orders are due next. To complete this task, carry out the following steps:\n",
    "\n",
    "- Get a connection from the pool.\n",
    "\n",
    "- Create a buffered cursor.\n",
    "\n",
    "- Combine the data from the Bookings and the Employee tables. Sort the retrieved records in ascending order. Then display the information of the first three guests. \n",
    "\n",
    "- Returned the connection back to the pool.\n",
    "\n",
    "\n",
    "The output should be as follows:\n",
    "\n",
    "[BookingSlot]\n",
    "\n",
    "[Guest_name]\n",
    "\n",
    "[Assigned to: Employee Name [Employee Role]]"
   ]
  },
  {
   "cell_type": "code",
   "execution_count": 36,
   "id": "49664432-9ff9-4055-9354-b8a1a458bed7",
   "metadata": {},
   "outputs": [
    {
     "name": "stdout",
     "output_type": "stream",
     "text": [
      "[(datetime.timedelta(seconds=54000), 'Vanessa McCarthy', 'Giorgos Dioudis', 'Head Chef'), (datetime.timedelta(seconds=63000), 'Marcos Romero', 'Fatma Kaya', 'Assistant Chef'), (datetime.timedelta(seconds=64800), 'Anees Java', 'John Millar', 'Receptionist')]\n"
     ]
    }
   ],
   "source": [
    "\n",
    "query = \"\"\"\n",
    "    SELECT b.BookingSlot, CONCAT(b.GuestFirstName, ' ', b.GuestLastName) AS GuestName,\n",
    "           e.Name AS EmployeeName, e.Role AS EmployeeRole\n",
    "    FROM Bookings b\n",
    "    INNER JOIN Employees e ON b.EmployeeID = e.EmployeeID\n",
    "    ORDER BY b.BookingSlot ASC\n",
    "    LIMIT 3;\n",
    "\"\"\"\n",
    "cursor.execute(query)\n",
    "\n",
    "results = cursor.fetchall()\n",
    "\n",
    "print(results)\n"
   ]
  },
  {
   "cell_type": "code",
   "execution_count": 37,
   "id": "5dace695",
   "metadata": {},
   "outputs": [
    {
     "name": "stdout",
     "output_type": "stream",
     "text": [
      "--------------------------------------------------\n",
      "Upcoming Bookings\n",
      "--------------------------------------------------\n",
      "BookingSlot: 15:00:00\n",
      "Guest Name: Vanessa McCarthy\n",
      "Assigned to: Giorgos Dioudis [Head Chef]\n",
      "-------------------------\n",
      "BookingSlot: 17:30:00\n",
      "Guest Name: Marcos Romero\n",
      "Assigned to: Fatma Kaya [Assistant Chef]\n",
      "-------------------------\n",
      "BookingSlot: 18:00:00\n",
      "Guest Name: Anees Java\n",
      "Assigned to: John Millar [Receptionist]\n",
      "-------------------------\n"
     ]
    }
   ],
   "source": [
    "print(\"-\" * 50)\n",
    "print(\"Upcoming Bookings\")\n",
    "print(\"-\" * 50)\n",
    "for row in results:\n",
    "    print(f\"BookingSlot: {row[0]}\")\n",
    "    print(f\"Guest Name: {row[1]}\")\n",
    "    print(f\"Assigned to: {row[2]} [{row[3]}]\")\n",
    "    print(\"-\" * 50)\n"
   ]
  },
  {
   "cell_type": "code",
   "execution_count": 38,
   "id": "d14123f4",
   "metadata": {},
   "outputs": [],
   "source": [
    "cursor.close()\n",
    "conn.close()"
   ]
  }
 ],
 "metadata": {
  "kernelspec": {
   "display_name": "Python 3 (ipykernel)",
   "language": "python",
   "name": "python3"
  },
  "language_info": {
   "codemirror_mode": {
    "name": "ipython",
    "version": 3
   },
   "file_extension": ".py",
   "mimetype": "text/x-python",
   "name": "python",
   "nbconvert_exporter": "python",
   "pygments_lexer": "ipython3",
   "version": "3.11.5"
  }
 },
 "nbformat": 4,
 "nbformat_minor": 5
}
