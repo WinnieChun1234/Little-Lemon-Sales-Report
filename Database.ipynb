{
 "cells": [
  {
   "cell_type": "markdown",
   "id": "8ceaff29-e837-43e3-949c-fdfd2d62116b",
   "metadata": {},
   "source": [
    "# Set up the database\n",
    "\n",
    "This reading outlines the steps you need to take to set up a database for the graded assessment.\n",
    "\n",
    "Little Lemon is a family-owned Mediterranean restaurant. They are developing a Python-based application that needs to connect with the MySQL database so that the booking, menu and orders data can be stored in the respective tables. \n",
    "\n",
    "The restaurant owner wants to use the stored data to make data-driven decisions to increase their revenue. Establishing a database is one of their key objectives. \n",
    "\n",
    "Follow the given steps to set up the Little Lemon database."
   ]
  },
  {
   "cell_type": "markdown",
   "id": "913bf805-785a-44cd-bd9b-83a1ba83c9d2",
   "metadata": {},
   "source": [
    "### Step 1: Establish a connection \n",
    "\n",
    "Open a new Jupyter notebook and import the MySQL Connector/Python API to establish a connection between Python and MySQL database. The code to establish a connection is given below. Use your own username and password when you are establishing a connection."
   ]
  },
  {
   "cell_type": "code",
   "execution_count": null,
   "id": "00f7c652-bb44-43a5-8b62-c68e30b1e6ad",
   "metadata": {},
   "outputs": [],
   "source": [
    "# !pip install mysqlx-connector-python\n",
    "!pip install mysql-connector-python"
   ]
  },
  {
   "cell_type": "code",
   "execution_count": 90,
   "id": "4f51ab3a-6de7-4f44-9e84-3553da254a90",
   "metadata": {},
   "outputs": [
    {
     "name": "stdout",
     "output_type": "stream",
     "text": [
      "connected to mysql\n"
     ]
    }
   ],
   "source": [
    "# Install MySQL in terminal\n",
    "import mysql.connector as connector\n",
    "from mysql.connector import Error\n",
    "\n",
    "try:\n",
    "    connection=connector.connect(user=\"root\",password=\"\")\n",
    "    print(\"connected to mysql\")\n",
    "except Error as e:\n",
    "    print(\"Unable to connecting MySQL:\", e)"
   ]
  },
  {
   "cell_type": "markdown",
   "id": "8addcc38-2305-4a93-a33e-14ab635c6469",
   "metadata": {},
   "source": [
    "### Step 2: Create a cursor\n",
    "Once the connection between Python and MySQL database is successfully established, you need a cursor object to communicate with MySQL. Create a cursor using the code given below:"
   ]
  },
  {
   "cell_type": "code",
   "execution_count": 91,
   "id": "a6cd90ff-484f-4230-b801-ca7b28dba5c7",
   "metadata": {},
   "outputs": [
    {
     "name": "stdout",
     "output_type": "stream",
     "text": [
      "successfully established cursor\n"
     ]
    }
   ],
   "source": [
    "cursor = connection.cursor()\n",
    "print(\"successfully established cursor\")"
   ]
  },
  {
   "cell_type": "markdown",
   "id": "a40d4ba7-ed1a-49c8-86f9-022040709622",
   "metadata": {},
   "source": [
    "### Step 3: Create the database and set it for use\n",
    "Now that you have a connection and a cursor, create a new database little_lemon_db using the code below:"
   ]
  },
  {
   "cell_type": "code",
   "execution_count": 92,
   "id": "b57a563b-bc73-4af9-8aaf-efa1c8838f5c",
   "metadata": {},
   "outputs": [
    {
     "name": "stdout",
     "output_type": "stream",
     "text": [
      "little_lemon_db is created\n"
     ]
    }
   ],
   "source": [
    "cursor.execute(\"DROP DATABASE IF EXISTS little_lemon_db\")\n",
    "cursor.execute(\"CREATE DATABASE little_lemon_db\")\n",
    "print(\"little_lemon_db is created\")\n"
   ]
  },
  {
   "cell_type": "markdown",
   "id": "1dfbbbf3-eb77-42d7-9432-fbe2a133e6ca",
   "metadata": {},
   "source": [
    "Set the database for use by executing the following SQL statement:"
   ]
  },
  {
   "cell_type": "code",
   "execution_count": 93,
   "id": "a29e7734-ea8a-4c6d-9567-82cfc8c271b2",
   "metadata": {},
   "outputs": [],
   "source": [
    "cursor.execute(\"USE little_lemon_db\")"
   ]
  },
  {
   "cell_type": "markdown",
   "id": "ad87cb58-0dc3-49f1-8e61-8ad70f72b1b6",
   "metadata": {},
   "source": [
    "### Step 4: Create tables\n",
    "You now need tables so that you can insert the data. Use the following queries to create your table structure:\n",
    "\n"
   ]
  },
  {
   "cell_type": "code",
   "execution_count": 94,
   "id": "84a2f422-2ee3-4edb-8dc1-c74f94ca9e09",
   "metadata": {},
   "outputs": [],
   "source": [
    "create_menuitem_table = \"\"\"CREATE TABLE MenuItems (\n",
    "ItemID INT AUTO_INCREMENT,\n",
    "Name VARCHAR(200),\n",
    "Type VARCHAR(100),\n",
    "Price INT,\n",
    "PRIMARY KEY (ItemID)\n",
    ");\"\"\"\n",
    "\n",
    "cursor.execute(create_menuitem_table)"
   ]
  },
  {
   "cell_type": "code",
   "execution_count": 95,
   "id": "4b4a6495-2a94-4e6f-9667-17477060439f",
   "metadata": {},
   "outputs": [],
   "source": [
    "create_menu_table = \"\"\"CREATE TABLE Menus (\n",
    "MenuID INT,\n",
    "ItemID INT,\n",
    "Cuisine VARCHAR(100),\n",
    "PRIMARY KEY (MenuID,ItemID)\n",
    ");\"\"\"\n",
    "\n",
    "cursor.execute(create_menu_table)"
   ]
  },
  {
   "cell_type": "code",
   "execution_count": 96,
   "id": "5910836c-f009-4817-8550-20309d8e7bbc",
   "metadata": {},
   "outputs": [],
   "source": [
    "Create_booking_table = \"\"\"CREATE TABLE Bookings (\n",
    "BookingID INT AUTO_INCREMENT,\n",
    "TableNo INT,\n",
    "GuestFirstName VARCHAR(100) NOT NULL,\n",
    "GuestLastName VARCHAR(100) NOT NULL,\n",
    "BookingSlot TIME NOT NULL,\n",
    "EmployeeID INT,\n",
    "PRIMARY KEY (BookingID)\n",
    ");\"\"\"\n",
    "\n",
    "cursor.execute(Create_booking_table)"
   ]
  },
  {
   "cell_type": "code",
   "execution_count": 97,
   "id": "d734ea41-daa6-40c5-8e4c-14d7f837e341",
   "metadata": {},
   "outputs": [],
   "source": [
    "create_orders_table = \"\"\"CREATE TABLE Orders (\n",
    "OrderID INT,\n",
    "TableNo INT,\n",
    "MenuID INT,\n",
    "BookingID INT,\n",
    "BillAmount INT,\n",
    "Quantity INT,\n",
    "PRIMARY KEY (OrderID,TableNo)\n",
    ");\"\"\"\n",
    "\n",
    "cursor.execute(create_orders_table)"
   ]
  },
  {
   "cell_type": "code",
   "execution_count": 98,
   "id": "afa138f6-e4e9-40b2-8177-60fe11d1292a",
   "metadata": {},
   "outputs": [],
   "source": [
    "create_employees_table = \"\"\"CREATE TABLE Employees (\n",
    "EmployeeID INT AUTO_INCREMENT PRIMARY KEY,\n",
    "Name VARCHAR (255),\n",
    "Role VARCHAR (100),\n",
    "Address VARCHAR (255),\n",
    "Contact_Number INT,\n",
    "Email VARCHAR (255),\n",
    "Annual_Salary VARCHAR (100)\n",
    ");\"\"\"\n",
    "\n",
    "cursor.execute(create_employees_table)"
   ]
  },
  {
   "cell_type": "markdown",
   "id": "c800659d-2ee1-4973-ba51-bd6f852a0526",
   "metadata": {},
   "source": [
    "Step 5: Insert data\n",
    "The tables are ready for you to insert the data. Use the following INSERT queries to populate your tables in the little_lemon_db database. "
   ]
  },
  {
   "cell_type": "code",
   "execution_count": 99,
   "id": "99979bc7-dc28-4d20-baa0-20ab11895114",
   "metadata": {},
   "outputs": [],
   "source": [
    "#*******************************************************#\n",
    "# Insert query to populate \"MenuItems\" table:\n",
    "#*******************************************************#\n",
    "insert_menuitems=\"\"\"\n",
    "INSERT INTO MenuItems (ItemID, Name, Type, Price)\n",
    "VALUES\n",
    "(1, 'Olives','Starters',5),\n",
    "(2, 'Flatbread','Starters', 5),\n",
    "(3, 'Minestrone', 'Starters', 8),\n",
    "(4, 'Tomato bread','Starters', 8),\n",
    "(5, 'Falafel', 'Starters', 7),\n",
    "(6, 'Hummus', 'Starters', 5),\n",
    "(7, 'Greek salad', 'Main Courses', 15),\n",
    "(8, 'Bean soup', 'Main Courses', 12),\n",
    "(9, 'Pizza', 'Main Courses', 15),\n",
    "(10, 'Greek yoghurt','Desserts', 7),\n",
    "(11, 'Ice cream', 'Desserts', 6),\n",
    "(12, 'Cheesecake', 'Desserts', 4),\n",
    "(13, 'Athens White wine', 'Drinks', 25),\n",
    "(14, 'Corfu Red Wine', 'Drinks', 30),\n",
    "(15, 'Turkish Coffee', 'Drinks', 10),\n",
    "(16, 'Turkish Coffee', 'Drinks', 10),\n",
    "(17, 'Kabasa', 'Main Courses', 17);\"\"\"\n",
    "\n",
    "\n",
    "\n",
    "# Populate MenuItems table\n",
    "cursor.execute(insert_menuitems)\n",
    "connection.commit()\n",
    "\n"
   ]
  },
  {
   "cell_type": "code",
   "execution_count": 100,
   "id": "bfa1a7ef",
   "metadata": {},
   "outputs": [],
   "source": [
    "#*******************************************************#\n",
    "# Insert query to populate \"Menu\" table:\n",
    "#*******************************************************#\n",
    "insert_menu=\"\"\"\n",
    "INSERT INTO Menus (MenuID,ItemID,Cuisine)\n",
    "VALUES\n",
    "(1, 1, 'Greek'),\n",
    "(1, 7, 'Greek'),\n",
    "(1, 10, 'Greek'),\n",
    "(1, 13, 'Greek'),\n",
    "(2, 3, 'Italian'),\n",
    "(2, 9, 'Italian'),\n",
    "(2, 12, 'Italian'),\n",
    "(2, 15, 'Italian'),\n",
    "(3, 5, 'Turkish'),\n",
    "(3, 17, 'Turkish'),\n",
    "(3, 11, 'Turkish'),\n",
    "(3, 16, 'Turkish');\"\"\"\n",
    "\n",
    "# Populate Menus table\n",
    "cursor.execute(insert_menu)\n",
    "connection.commit()"
   ]
  },
  {
   "cell_type": "code",
   "execution_count": 101,
   "id": "07208b5d",
   "metadata": {},
   "outputs": [],
   "source": [
    "#*******************************************************#\n",
    "# Insert query to populate \"Bookings\" table:\n",
    "#*******************************************************#\n",
    "insert_bookings=\"\"\"\n",
    "INSERT INTO Bookings (BookingID, TableNo, GuestFirstName, \n",
    "GuestLastName, BookingSlot, EmployeeID)\n",
    "VALUES\n",
    "(1, 12, 'Anna','Iversen','19:00:00',1),\n",
    "(2, 12, 'Joakim', 'Iversen', '19:00:00', 1),\n",
    "(3, 19, 'Vanessa', 'McCarthy', '15:00:00', 3),\n",
    "(4, 15, 'Marcos', 'Romero', '17:30:00', 4),\n",
    "(5, 5, 'Hiroki', 'Yamane', '18:30:00', 2),\n",
    "(6, 8, 'Diana', 'Pinto', '20:00:00', 5);\"\"\"\n",
    "\n",
    "# Populate Bookings table\n",
    "cursor.execute(insert_bookings)\n",
    "connection.commit()"
   ]
  },
  {
   "cell_type": "code",
   "execution_count": 102,
   "id": "a1e50896",
   "metadata": {},
   "outputs": [],
   "source": [
    "#*******************************************************#\n",
    "# Insert query to populate \"Orders\" table:\n",
    "#*******************************************************#\n",
    "insert_orders=\"\"\"\n",
    "INSERT INTO Orders (OrderID, TableNo, MenuID, BookingID, Quantity, BillAmount)\n",
    "VALUES\n",
    "(1, 12, 1, 1, 2, 86),\n",
    "(2, 19, 2, 2, 1, 37),\n",
    "(3, 15, 2, 3, 1, 37),\n",
    "(4, 5, 3, 4, 1, 40),\n",
    "(5, 8, 1, 5, 1, 43);\"\"\"\n",
    "\n",
    "\n",
    "\n",
    "# Populate Orders table\n",
    "cursor.execute(insert_orders)\n",
    "connection.commit()\n"
   ]
  },
  {
   "cell_type": "code",
   "execution_count": 103,
   "id": "852b2377",
   "metadata": {},
   "outputs": [],
   "source": [
    "#*******************************************************#\n",
    "# Insert query to populate \"Employees\" table:\n",
    "#*******************************************************#\n",
    "insert_employees = \"\"\"\n",
    "INSERT INTO employees (EmployeeID, Name, Role, Address, Contact_Number, Email, Annual_Salary) VALUES\n",
    "(01,'Mario Gollini','Manager','724, Parsley Lane, Old Town, Chicago, IL',351258074,'Mario.g@littlelemon.com','$70,000'),\n",
    "(02,'Adrian Gollini','Assistant Manager','334, Dill Square, Lincoln Park, Chicago, IL',351474048,'Adrian.g@littlelemon.com','$65,000'),\n",
    "(03,'Giorgos Dioudis','Head Chef','879 Sage Street, West Loop, Chicago, IL',351970582,'Giorgos.d@littlelemon.com','$50,000'),\n",
    "(04,'Fatma Kaya','Assistant Chef','132  Bay Lane, Chicago, IL',351963569,'Fatma.k@littlelemon.com','$45,000'),\n",
    "(05,'Elena Salvai','Head Waiter','989 Thyme Square, EdgeWater, Chicago, IL',351074198,'Elena.s@littlelemon.com','$40,000'),\n",
    "(06,'John Millar','Receptionist','245 Dill Square, Lincoln Park, Chicago, IL',351584508,'John.m@littlelemon.com','$35,000');\"\"\"\n",
    "\n",
    "# Populate Employees table\n",
    "cursor.execute(insert_employees)\n",
    "connection.commit()"
   ]
  },
  {
   "cell_type": "markdown",
   "id": "3641d79b-06c2-4ec2-a913-76a0f47cbda8",
   "metadata": {},
   "source": [
    "### Conclusion \n",
    "Your database is ready. Use this database to complete the graded assessment.\n",
    "\n",
    "Good luck!\n",
    "\n"
   ]
  }
 ],
 "metadata": {
  "kernelspec": {
   "display_name": "Python 3 (ipykernel)",
   "language": "python",
   "name": "python3"
  },
  "language_info": {
   "codemirror_mode": {
    "name": "ipython",
    "version": 3
   },
   "file_extension": ".py",
   "mimetype": "text/x-python",
   "name": "python",
   "nbconvert_exporter": "python",
   "pygments_lexer": "ipython3",
   "version": "3.11.5"
  }
 },
 "nbformat": 4,
 "nbformat_minor": 5
}
